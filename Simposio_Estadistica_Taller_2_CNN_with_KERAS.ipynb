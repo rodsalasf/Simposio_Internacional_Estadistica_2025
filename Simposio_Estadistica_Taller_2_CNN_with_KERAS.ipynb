{
  "nbformat": 4,
  "nbformat_minor": 0,
  "metadata": {
    "colab": {
      "provenance": []
    },
    "kernelspec": {
      "name": "python3",
      "display_name": "Python 3"
    },
    "language_info": {
      "name": "python"
    }
  },
  "cells": [
    {
      "cell_type": "markdown",
      "source": [
        "# Taller 2 - CNN utilizando Keras para el procesamiento de Imágenes\n",
        "\n",
        "Profesor: Dr. Ing. Rodrigo Salas, Universidad de Valparaíso\n",
        "\n",
        "[rodrigo.salas@uv.cl](mailto:rodrigo.salas@uv.cl)\n",
        "\n",
        "Cursillo de Deep Learning aplicado a Imágenes\n",
        "\n",
        "**Simposio Internacional de Estadística 2025**\n",
        "\n",
        "**Pasto, Colombia**"
      ],
      "metadata": {
        "id": "qUhMuQzn6ifp"
      }
    },
    {
      "cell_type": "markdown",
      "source": [
        "## Toolbox Utilizados"
      ],
      "metadata": {
        "id": "d3aaHboG7iWK"
      }
    },
    {
      "cell_type": "code",
      "source": [
        "import tensorflow as tf\n",
        "from tensorflow.keras import layers, models\n",
        "import matplotlib.pyplot as plt\n",
        "import numpy as np"
      ],
      "metadata": {
        "id": "VreokgDH7t5c"
      },
      "execution_count": null,
      "outputs": []
    },
    {
      "cell_type": "markdown",
      "source": [
        "## Se utilizará el conjunto de datos de MNIST"
      ],
      "metadata": {
        "id": "bDodwpPt7tk-"
      }
    },
    {
      "cell_type": "markdown",
      "source": [
        "Carga del conjunto de datos y separación en entrenamiento y Test"
      ],
      "metadata": {
        "id": "wAVRIIz575vN"
      }
    },
    {
      "cell_type": "code",
      "source": [
        "(X_train, y_train), (X_test, y_test) = tf.keras.datasets.mnist.load_data()"
      ],
      "metadata": {
        "id": "kwZu1Ae574_D"
      },
      "execution_count": null,
      "outputs": []
    },
    {
      "cell_type": "markdown",
      "source": [
        "Visualización de algunas imágenes como ejemplos"
      ],
      "metadata": {
        "id": "UohlaWx18BNf"
      }
    },
    {
      "cell_type": "code",
      "source": [
        "plt.figure(figsize=(8, 4))\n",
        "for i in range(10):\n",
        "    plt.subplot(2, 5, i + 1)\n",
        "    plt.imshow(X_train[i], cmap='gray')\n",
        "    plt.title(f\"Etiqueta: {y_train[i]}\")\n",
        "    plt.axis('off')\n",
        "plt.suptitle(\"Ejemplos del conjunto de entrenamiento\")"
      ],
      "metadata": {
        "id": "SeyXVrqt8B40"
      },
      "execution_count": null,
      "outputs": []
    },
    {
      "cell_type": "markdown",
      "source": [
        "## Preprocesamiento de la imágenes.\n",
        "\n",
        "Las imágenes son convertidas a números reales con valores en el ranto $[0,1]$"
      ],
      "metadata": {
        "id": "iW2rrHZm8gSn"
      }
    },
    {
      "cell_type": "code",
      "source": [
        "X_train = X_train.astype(\"float32\") / 255.0\n",
        "X_test = X_test.astype(\"float32\") / 255.0\n",
        "X_train = X_train[..., tf.newaxis]  # (n, 28, 28, 1)\n",
        "X_test = X_test[..., tf.newaxis]"
      ],
      "metadata": {
        "id": "vW6KtmdY8vak"
      },
      "execution_count": null,
      "outputs": []
    },
    {
      "cell_type": "markdown",
      "source": [
        "Guardar etiquetas originales para visualización posterior"
      ],
      "metadata": {
        "id": "C2XDRXoo8xU3"
      }
    },
    {
      "cell_type": "code",
      "source": [
        "y_test_labels = y_test.copy()"
      ],
      "metadata": {
        "id": "Z9QCXHY083nU"
      },
      "execution_count": null,
      "outputs": []
    },
    {
      "cell_type": "markdown",
      "source": [
        "Aplicación de *one-hot-encoding* para representar variables categóricas (como letras, clases o etiquetas) en un formato numérico binario donde todas las posiciones son 0, excepto una que es 1, que indica la categoría presente."
      ],
      "metadata": {
        "id": "0daEeL9-86LI"
      }
    },
    {
      "cell_type": "code",
      "source": [
        "y_train = tf.keras.utils.to_categorical(y_train, 10)\n",
        "y_test = tf.keras.utils.to_categorical(y_test, 10)"
      ],
      "metadata": {
        "id": "pvEjx0tw9af2"
      },
      "execution_count": null,
      "outputs": []
    },
    {
      "cell_type": "markdown",
      "source": [
        "## Implementación del Modelo de CNN"
      ],
      "metadata": {
        "id": "n96KWYDb9cAm"
      }
    },
    {
      "cell_type": "code",
      "source": [
        "model = models.Sequential([\n",
        "    layers.Conv2D(32, (3, 3), activation='relu', input_shape=(28, 28, 1)),\n",
        "    layers.MaxPooling2D((2, 2)),\n",
        "    layers.Conv2D(64, (3, 3), activation='relu'),\n",
        "    layers.MaxPooling2D((2, 2)),\n",
        "    layers.Flatten(),\n",
        "    layers.Dense(64, activation='relu'),\n",
        "    layers.Dense(10, activation='softmax')\n",
        "])"
      ],
      "metadata": {
        "id": "24BIxRR69g9z"
      },
      "execution_count": null,
      "outputs": []
    },
    {
      "cell_type": "markdown",
      "source": [
        "Compilación del modelo utilizando como técnica de aprendizaje de tipo backpropagation el algorimo *ADAM* y la función de pérdida la cross-entropía categórica:\n",
        "\n",
        "$$L = -\\sum_{i=1}^{C} y_i \\log(\\hat{y}_i)$$\n",
        "\n",
        "Se visualizará el accuracy durante el entrenamiento."
      ],
      "metadata": {
        "id": "A_nCSbiW9jMg"
      }
    },
    {
      "cell_type": "code",
      "source": [
        "model.compile(optimizer='adam',\n",
        "              loss='categorical_crossentropy',\n",
        "              metrics=['accuracy'])"
      ],
      "metadata": {
        "id": "O57q3scT9jkX"
      },
      "execution_count": null,
      "outputs": []
    },
    {
      "cell_type": "code",
      "source": [
        "model.summary(line_length=80)"
      ],
      "metadata": {
        "id": "aGmXTxmeBKVh"
      },
      "execution_count": null,
      "outputs": []
    },
    {
      "cell_type": "markdown",
      "source": [
        "Gráfica del Modelo"
      ],
      "metadata": {
        "id": "bKmTJzbpAcSh"
      }
    },
    {
      "cell_type": "code",
      "source": [
        "from keras.utils import plot_model\n",
        "plot_model(model, to_file='cnn_model.png', show_shapes=True, show_layer_names=True)"
      ],
      "metadata": {
        "id": "wDbfdpfyAd8W"
      },
      "execution_count": null,
      "outputs": []
    },
    {
      "cell_type": "markdown",
      "source": [
        "## Entrenamiento del modelo de CNN\n",
        "\n",
        "El modelo de CNN se entrena con 5 épocas, con un batch size de 64, y se utiliza un conjunto de validación con el 20% de los datos."
      ],
      "metadata": {
        "id": "gjjnD_8g-C1H"
      }
    },
    {
      "cell_type": "code",
      "source": [
        "history = model.fit(X_train, y_train,\n",
        "                    epochs=5,\n",
        "                    batch_size=64,\n",
        "                    validation_split=0.2,\n",
        "                    verbose=1)"
      ],
      "metadata": {
        "id": "7YDJvvu--GN2"
      },
      "execution_count": null,
      "outputs": []
    },
    {
      "cell_type": "markdown",
      "source": [
        "Gráfico de la curva de aprendizaje"
      ],
      "metadata": {
        "id": "viBq1Wfy-StB"
      }
    },
    {
      "cell_type": "code",
      "source": [
        "plt.plot(history.history['loss'], label='Entrenamiento')\n",
        "plt.plot(history.history['val_loss'], label='Validación')\n",
        "plt.title('Curva de pérdida')\n",
        "plt.xlabel('Épocas')\n",
        "plt.ylabel('Loss')\n",
        "plt.legend()"
      ],
      "metadata": {
        "id": "tFcYx7eJ-W6C"
      },
      "execution_count": null,
      "outputs": []
    },
    {
      "cell_type": "markdown",
      "source": [
        "## Evaluación de la Capacidad de Generalización"
      ],
      "metadata": {
        "id": "SrdU3QLa-bLe"
      }
    },
    {
      "cell_type": "code",
      "source": [
        "test_loss, test_acc = model.evaluate(X_test, y_test, verbose=0)\n",
        "print(f\"Precisión en test: {test_acc:.4f}\")"
      ],
      "metadata": {
        "id": "MWuvuiO_-fnV"
      },
      "execution_count": null,
      "outputs": []
    },
    {
      "cell_type": "markdown",
      "source": [
        "## Ejemplos en el Proceso de Inferencia"
      ],
      "metadata": {
        "id": "-EkY5CNK-hsa"
      }
    },
    {
      "cell_type": "code",
      "source": [
        "predictions = model.predict(X_test[:10])\n",
        "pred_labels = np.argmax(predictions, axis=1)"
      ],
      "metadata": {
        "id": "70fgWnDk-nsQ"
      },
      "execution_count": null,
      "outputs": []
    },
    {
      "cell_type": "code",
      "source": [
        "plt.figure(figsize=(12, 14))\n",
        "for i in range(9):\n",
        "    plt.subplot(3, 3, i + 1)\n",
        "    plt.imshow(X_test[i].reshape(28, 28), cmap='gray')\n",
        "    plt.title(f\"Pred: {pred_labels[i]}\\nReal: {y_test_labels[i]}\")\n",
        "    plt.axis('off')\n",
        "plt.suptitle(\"Predicciones en el conjunto de prueba\")\n",
        "plt.show()"
      ],
      "metadata": {
        "id": "wjJunOrl-oLR"
      },
      "execution_count": null,
      "outputs": []
    },
    {
      "cell_type": "markdown",
      "source": [
        "**Gracias**"
      ],
      "metadata": {
        "id": "8LjZkFM8C6lL"
      }
    }
  ]
}